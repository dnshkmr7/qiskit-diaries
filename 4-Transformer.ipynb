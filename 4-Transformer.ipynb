{
 "cells": [
  {
   "attachments": {},
   "cell_type": "markdown",
   "id": "5bac463c",
   "metadata": {},
   "source": [
    "# Transforming Problems"
   ]
  },
  {
   "attachments": {},
   "cell_type": "markdown",
   "id": "f90b6ed9",
   "metadata": {},
   "source": [
    "## The `BasisTransformer`"
   ]
  },
  {
   "cell_type": "code",
   "execution_count": 44,
   "id": "a4942c8f",
   "metadata": {},
   "outputs": [
    {
     "name": "stdout",
     "output_type": "stream",
     "text": [
      "ElectronicBasis.AO\n",
      "Polynomial Tensor\n",
      " \"+-\":\n",
      "[[-1.12421758 -0.9652574 ]\n",
      " [-0.9652574  -1.12421758]]\n",
      " \"++--\":\n",
      "[[[[0.77460594 0.44744572]\n",
      "   [0.44744572 0.3009177 ]]\n",
      "\n",
      "  [[0.44744572 0.3009177 ]\n",
      "   [0.57187698 0.44744572]]]\n",
      "\n",
      "\n",
      " [[[0.44744572 0.57187698]\n",
      "   [0.3009177  0.44744572]]\n",
      "\n",
      "  [[0.3009177  0.44744572]\n",
      "   [0.44744572 0.77460594]]]]\n"
     ]
    }
   ],
   "source": [
    "from qiskit_nature.second_q.drivers import PySCFDriver\n",
    "from qiskit_nature.second_q.problems import ElectronicBasis\n",
    "\n",
    "driver = PySCFDriver()\n",
    "driver.run_pyscf()\n",
    "\n",
    "ao_problem = driver.to_problem(basis=ElectronicBasis.AO)\n",
    "print(ao_problem.basis)\n",
    "\n",
    "ao_hamil = ao_problem.hamiltonian\n",
    "print(ao_hamil.electronic_integrals.alpha)"
   ]
  },
  {
   "attachments": {},
   "cell_type": "markdown",
   "id": "52377257",
   "metadata": {},
   "source": [
    "Next, we obtain the `MO` to `AO` transformer:"
   ]
  },
  {
   "cell_type": "code",
   "execution_count": 45,
   "id": "afe99e12",
   "metadata": {},
   "outputs": [
    {
     "name": "stdout",
     "output_type": "stream",
     "text": [
      "ElectronicBasis.AO\n",
      "ElectronicBasis.MO\n"
     ]
    }
   ],
   "source": [
    "from qiskit_nature.second_q.formats.qcschema_translator import get_ao_to_mo_from_qcschema\n",
    "\n",
    "qcschema = driver.to_qcschema()\n",
    "\n",
    "basis_transformer = get_ao_to_mo_from_qcschema(qcschema)\n",
    "print(basis_transformer.initial_basis)\n",
    "print(basis_transformer.final_basis)"
   ]
  },
  {
   "cell_type": "markdown",
   "id": "325220b1",
   "metadata": {},
   "source": [
    "And finally, we can use the transformer to obtain the problem in the `MO` basis:"
   ]
  },
  {
   "cell_type": "code",
   "execution_count": 46,
   "id": "f28441fc",
   "metadata": {},
   "outputs": [
    {
     "name": "stdout",
     "output_type": "stream",
     "text": [
      "ElectronicBasis.MO\n",
      "Polynomial Tensor\n",
      " \"+-\":\n",
      "[[-1.25633907e+00 -6.21867875e-17]\n",
      " [-7.78036432e-17 -4.71896007e-01]]\n",
      " \"++--\":\n",
      "[[[[6.75710155e-01 1.12401641e-16]\n",
      "   [1.56722377e-16 1.80931200e-01]]\n",
      "\n",
      "  [[1.92605510e-16 1.80931200e-01]\n",
      "   [6.64581730e-01 2.59298923e-16]]]\n",
      "\n",
      "\n",
      " [[[8.68926823e-17 6.64581730e-01]\n",
      "   [1.80931200e-01 1.82411770e-16]]\n",
      "\n",
      "  [[1.80931200e-01 2.57172666e-16]\n",
      "   [7.20426423e-17 6.98573723e-01]]]]\n"
     ]
    }
   ],
   "source": [
    "mo_problem = basis_transformer.transform(ao_problem)\n",
    "print(mo_problem.basis)\n",
    "\n",
    "mo_hamil = mo_problem.hamiltonian\n",
    "print(mo_hamil.electronic_integrals.alpha)"
   ]
  },
  {
   "cell_type": "markdown",
   "id": "c90aa467",
   "metadata": {},
   "source": [
    "If you need to construct your `BasisTransformer` manually, you can do this like so:"
   ]
  },
  {
   "cell_type": "code",
   "execution_count": 47,
   "id": "6cea99d6",
   "metadata": {},
   "outputs": [],
   "source": [
    "import numpy as np\n",
    "from qiskit_nature.second_q.operators import ElectronicIntegrals\n",
    "from qiskit_nature.second_q.problems import ElectronicBasis\n",
    "from qiskit_nature.second_q.transformers import BasisTransformer\n",
    "\n",
    "ao2mo_alpha = np.random.random((2, 2))\n",
    "ao2mo_beta = np.random.random((2, 2))\n",
    "\n",
    "basis_transformer = BasisTransformer(\n",
    "    ElectronicBasis.AO,\n",
    "    ElectronicBasis.MO,\n",
    "    ElectronicIntegrals.from_raw_integrals(ao2mo_alpha, h1_b=ao2mo_beta),\n",
    ")"
   ]
  },
  {
   "attachments": {},
   "cell_type": "markdown",
   "id": "17922900",
   "metadata": {},
   "source": [
    "## The `FreezeCoreTransformer`"
   ]
  },
  {
   "cell_type": "code",
   "execution_count": 48,
   "id": "4a85694a",
   "metadata": {},
   "outputs": [
    {
     "name": "stdout",
     "output_type": "stream",
     "text": [
      "Molecule:\n",
      "\tMultiplicity: 1\n",
      "\tCharge: 0\n",
      "\tUnit: Bohr\n",
      "\tGeometry:\n",
      "\t\tBe\t(0.0, 0.0, 0.0)\n",
      "\t\tH\t(0.0, 0.0, -2.494438484425882)\n",
      "\t\tH\t(0.0, 0.0, 2.494438484425882)\n",
      "\tMasses:\n",
      "\t\tBe\t9\n",
      "\t\tH\t1\n",
      "\t\tH\t1\n",
      "(3, 3)\n",
      "7\n"
     ]
    }
   ],
   "source": [
    "from qiskit_nature.second_q.drivers import PySCFDriver\n",
    "\n",
    "driver = PySCFDriver(atom=\"Be 0 0 0; H 0 0 -1.32; H 0 0 1.32\")\n",
    "\n",
    "full_problem = driver.run()\n",
    "print(full_problem.molecule)\n",
    "print(full_problem.num_particles)\n",
    "print(full_problem.num_spatial_orbitals)"
   ]
  },
  {
   "cell_type": "code",
   "execution_count": 49,
   "id": "9a37235a",
   "metadata": {},
   "outputs": [
    {
     "name": "stdout",
     "output_type": "stream",
     "text": [
      "(2, 2)\n",
      "6\n"
     ]
    }
   ],
   "source": [
    "from qiskit_nature.second_q.transformers import FreezeCoreTransformer\n",
    "\n",
    "fc_transformer = FreezeCoreTransformer()\n",
    "\n",
    "fc_problem = fc_transformer.transform(full_problem)\n",
    "print(fc_problem.num_particles)\n",
    "print(fc_problem.num_spatial_orbitals)"
   ]
  },
  {
   "cell_type": "code",
   "execution_count": 50,
   "id": "82446408",
   "metadata": {},
   "outputs": [
    {
     "name": "stdout",
     "output_type": "stream",
     "text": [
      "{'nuclear_repulsion_energy': 3.407580524863637, 'FreezeCoreTransformer': -15.042985348309728}\n"
     ]
    }
   ],
   "source": [
    "print(fc_problem.hamiltonian.constants)"
   ]
  },
  {
   "cell_type": "code",
   "execution_count": 51,
   "id": "a13e42db",
   "metadata": {},
   "outputs": [
    {
     "name": "stdout",
     "output_type": "stream",
     "text": [
      "(2, 2)\n",
      "5\n"
     ]
    }
   ],
   "source": [
    "fc_transformer = FreezeCoreTransformer(remove_orbitals=[6, 7])\n",
    "\n",
    "fc_problem = fc_transformer.transform(full_problem)\n",
    "print(fc_problem.num_particles)\n",
    "print(fc_problem.num_spatial_orbitals)"
   ]
  },
  {
   "attachments": {},
   "cell_type": "markdown",
   "id": "fb5ab38f",
   "metadata": {},
   "source": [
    "## The `ActiveSpaceTransformer`"
   ]
  },
  {
   "cell_type": "code",
   "execution_count": 52,
   "id": "fc5680f5",
   "metadata": {},
   "outputs": [
    {
     "name": "stdout",
     "output_type": "stream",
     "text": [
      "(3, 3)\n",
      "7\n"
     ]
    }
   ],
   "source": [
    "from qiskit_nature.second_q.drivers import PySCFDriver\n",
    "\n",
    "driver = PySCFDriver(atom=\"Be 0 0 0; H 0 0 -1.32; H 0 0 1.32\")\n",
    "\n",
    "full_problem = driver.run()\n",
    "print(full_problem.num_particles)\n",
    "print(full_problem.num_spatial_orbitals)"
   ]
  },
  {
   "cell_type": "code",
   "execution_count": 53,
   "id": "46d28748",
   "metadata": {},
   "outputs": [
    {
     "name": "stdout",
     "output_type": "stream",
     "text": [
      "(2, 2)\n",
      "4\n",
      "Polynomial Tensor\n",
      " \"+-\":\n",
      "[[-1.52068450e+00 -2.21108986e-16  7.17364791e-17 -1.07170108e-16]\n",
      " [-5.68135777e-17 -1.52143297e+00  2.40565490e-16  2.53569377e-16]\n",
      " [ 7.17364791e-17  2.40565490e-16 -1.17917888e+00 -1.71735667e-16]\n",
      " [-1.07170108e-16  2.53569377e-16 -6.41748405e-17 -1.17917888e+00]]\n",
      " \"++--\":\n",
      "[[[[ 3.99710434e-01  2.96196380e-15 -2.02831538e-17  3.02406615e-17]\n",
      "   [ 2.93544929e-15  1.64638880e-01 -2.02645725e-17 -1.78914898e-17]\n",
      "   [-2.02831538e-17 -2.02645725e-17  4.95573429e-02 -1.83699563e-18]\n",
      "   [ 3.02406615e-17 -1.78914898e-17  8.26109358e-18  4.95573429e-02]]\n",
      "\n",
      "  [[ 2.99520573e-15  1.64638880e-01 -2.02645725e-17 -1.78914898e-17]\n",
      "   [ 4.13083362e-01 -2.59049574e-15 -2.11198447e-17  3.17279887e-17]\n",
      "   [-7.92245968e-17 -1.04748907e-17 -3.03735111e-16  5.34481717e-19]\n",
      "   [-7.71489254e-17  1.62388599e-17  5.73808690e-19 -3.02878681e-16]]\n",
      "\n",
      "  [[-2.02831538e-17 -2.02645725e-17  4.95573429e-02  6.06381353e-18]\n",
      "   [-7.92245968e-17 -1.04748907e-17 -3.03485447e-16 -2.44367009e-19]\n",
      "   [ 3.69994408e-01 -1.23383281e-16 -1.70800755e-17  2.34351983e-17]\n",
      "   [-1.51392091e-18 -1.17470538e-32  5.96525991e-19 -5.58025719e-19]]\n",
      "\n",
      "  [[ 3.02406615e-17 -1.78914898e-17  1.56642730e-18  4.95573429e-02]\n",
      "   [-7.71489254e-17  1.62388599e-17  1.29123968e-19 -3.02084811e-16]\n",
      "   [ 3.97195528e-17 -8.88535184e-33  5.96525991e-19 -5.58025719e-19]\n",
      "   [ 3.69994408e-01 -1.23383281e-16 -1.59640241e-17  2.46282502e-17]]]\n",
      "\n",
      "\n",
      " [[[ 2.96890270e-15  4.13083362e-01 -7.92245968e-17 -7.71489254e-17]\n",
      "   [ 1.64638880e-01 -2.56378909e-15 -1.04748907e-17  1.62388599e-17]\n",
      "   [-2.02645725e-17 -2.11198447e-17 -3.04364650e-16  1.71027213e-19]\n",
      "   [-1.78914898e-17  3.17279887e-17 -2.43303366e-19 -3.04420502e-16]]\n",
      "\n",
      "  [[ 1.64638880e-01 -2.56968691e-15 -1.04748907e-17  1.62388599e-17]\n",
      "   [-2.59049574e-15  4.36228502e-01 -8.67771550e-17 -8.17550385e-17]\n",
      "   [-1.04748907e-17 -8.67771550e-17  1.47653982e-02  9.66523181e-19]\n",
      "   [ 1.62388599e-17 -8.17550385e-17  1.37034566e-18  1.47653982e-02]]\n",
      "\n",
      "  [[-2.02645725e-17 -2.11198447e-17 -3.04265700e-16 -1.39118851e-19]\n",
      "   [-1.04748907e-17 -8.67771550e-17  1.47653982e-02  1.64407735e-18]\n",
      "   [-1.26539031e-16  3.57546942e-01 -7.34311331e-17 -7.57499073e-17]\n",
      "   [-1.98061867e-32  4.75760577e-17 -3.67214815e-18 -1.63346565e-18]]\n",
      "\n",
      "  [[-1.78914898e-17  3.17279887e-17 -1.78386332e-20 -3.04265700e-16]\n",
      "   [ 1.62388599e-17 -8.17550385e-17  1.55678409e-18  1.47653982e-02]\n",
      "   [-4.24832833e-33  1.45551192e-17 -3.67214815e-18 -1.63346565e-18]\n",
      "   [-1.26539031e-16  3.57546942e-01 -7.01642018e-17 -8.30942036e-17]]]\n",
      "\n",
      "\n",
      " [[[-2.02831538e-17 -7.92245968e-17  3.69994408e-01  3.73732059e-17]\n",
      "   [-2.02645725e-17 -1.04748907e-17 -1.23383281e-16 -7.23541546e-32]\n",
      "   [ 4.95573429e-02 -3.04501701e-16 -1.70800755e-17  5.96525991e-19]\n",
      "   [ 8.26109358e-18  8.34333377e-20  2.34351983e-17 -5.58025719e-19]]\n",
      "\n",
      "  [[-2.02645725e-17 -1.04748907e-17 -1.31648063e-16 -6.75717914e-32]\n",
      "   [-2.11198447e-17 -8.67771550e-17  3.57546942e-01  2.93987780e-17]\n",
      "   [-3.03735111e-16  1.47653982e-02 -7.34311331e-17 -3.67214815e-18]\n",
      "   [ 5.73808690e-19  2.04435788e-18 -7.57499073e-17 -1.63346565e-18]]\n",
      "\n",
      "  [[ 4.95573429e-02 -3.04790722e-16 -1.70800755e-17  5.96525991e-19]\n",
      "   [-3.03485447e-16  1.47653982e-02 -7.34311331e-17 -3.67214815e-18]\n",
      "   [-1.70800755e-17 -7.34311331e-17  4.49859041e-01  1.33490006e-17]\n",
      "   [ 5.96525991e-19 -3.67214815e-18  2.52738527e-17  2.42493792e-02]]\n",
      "\n",
      "  [[ 4.45328889e-18 -9.46219974e-20  2.34351983e-17 -5.58025719e-19]\n",
      "   [ 8.44015000e-19  1.80991991e-18 -7.57499073e-17 -1.63346565e-18]\n",
      "   [ 5.96525991e-19 -3.67214815e-18  3.08605843e-18  2.42493792e-02]\n",
      "   [-1.59640241e-17 -7.01642018e-17  4.01360283e-01  5.41853097e-17]]]\n",
      "\n",
      "\n",
      " [[[ 3.02406615e-17 -7.71489254e-17  2.72647504e-17  3.69994408e-01]\n",
      "   [-1.78914898e-17  1.62388599e-17  3.16859515e-32 -1.14850893e-16]\n",
      "   [ 9.08296453e-19  1.15175866e-19  5.96525991e-19 -1.59640241e-17]\n",
      "   [ 4.95573429e-02 -3.04348225e-16 -5.58025719e-19  2.46282502e-17]]\n",
      "\n",
      "  [[-1.78914898e-17  1.62388599e-17  2.52362225e-32 -1.20693194e-16]\n",
      "   [ 3.17279887e-17 -8.17550385e-17  3.14062859e-17  3.57546942e-01]\n",
      "   [-8.38164324e-19  1.83388492e-18 -3.67214815e-18 -7.01642018e-17]\n",
      "   [-3.03939392e-16  1.47653982e-02 -1.63346565e-18 -8.30942036e-17]]\n",
      "\n",
      "  [[ 3.10709689e-18  2.40684244e-19  5.96525991e-19 -1.59640241e-17]\n",
      "   [-1.40365201e-18  1.08327088e-18 -3.67214815e-18 -7.01642018e-17]\n",
      "   [ 2.34351983e-17 -7.57499073e-17  3.71217244e-17  4.01360283e-01]\n",
      "   [-5.58025719e-19 -1.63346565e-18  2.42493792e-02  1.20473040e-16]]\n",
      "\n",
      "  [[ 4.95573429e-02 -3.04539723e-16 -5.58025719e-19  2.46282502e-17]\n",
      "   [-3.03819534e-16  1.47653982e-02 -1.63346565e-18 -8.30942036e-17]\n",
      "   [-5.58025719e-19 -1.63346565e-18  2.42493792e-02  1.19200561e-16]\n",
      "   [ 2.46282502e-17 -8.30942036e-17  7.65487876e-17  4.49859041e-01]]]]\n"
     ]
    }
   ],
   "source": [
    "from qiskit_nature.second_q.transformers import ActiveSpaceTransformer\n",
    "\n",
    "as_transformer = ActiveSpaceTransformer(4, 4)\n",
    "\n",
    "as_problem = as_transformer.transform(full_problem)\n",
    "print(as_problem.num_particles)\n",
    "print(as_problem.num_spatial_orbitals)\n",
    "print(as_problem.hamiltonian.electronic_integrals.alpha)"
   ]
  },
  {
   "cell_type": "code",
   "execution_count": 54,
   "id": "9079ed1b",
   "metadata": {},
   "outputs": [
    {
     "name": "stdout",
     "output_type": "stream",
     "text": [
      "(1, 1)\n",
      "2\n",
      "Polynomial Tensor\n",
      " \"+-\":\n",
      "[[-6.79068552e+00  2.03675789e-18]\n",
      " [ 2.03675789e-18 -9.10997635e-01]]\n",
      " \"++--\":\n",
      "[[[[ 2.27148263e+00 -2.10555106e-18]\n",
      "   [-2.10555106e-18  1.57674385e-02]]\n",
      "\n",
      "  [[-2.10555106e-18  1.57674385e-02]\n",
      "   [ 5.69173075e-01 -3.31781299e-20]]]\n",
      "\n",
      "\n",
      " [[[-2.10555106e-18  5.69173075e-01]\n",
      "   [ 1.57674385e-02 -3.31781299e-20]]\n",
      "\n",
      "  [[ 1.57674385e-02 -3.31781299e-20]\n",
      "   [-3.31781299e-20  4.49859041e-01]]]]\n"
     ]
    }
   ],
   "source": [
    "as_transformer = ActiveSpaceTransformer(2, 2, active_orbitals=[0, 4])\n",
    "\n",
    "as_problem = as_transformer.transform(full_problem)\n",
    "print(as_problem.num_particles)\n",
    "print(as_problem.num_spatial_orbitals)\n",
    "print(as_problem.hamiltonian.electronic_integrals.alpha)"
   ]
  }
 ],
 "metadata": {
  "kernelspec": {
   "display_name": "qcvenv",
   "language": "python",
   "name": "python3"
  },
  "language_info": {
   "codemirror_mode": {
    "name": "ipython",
    "version": 3
   },
   "file_extension": ".py",
   "mimetype": "text/x-python",
   "name": "python",
   "nbconvert_exporter": "python",
   "pygments_lexer": "ipython3",
   "version": "3.9.15"
  },
  "vscode": {
   "interpreter": {
    "hash": "e61fd055b6c89f408bdb22b74abb2a8303fbaccbe1fa5702588182a48b8f388a"
   }
  }
 },
 "nbformat": 4,
 "nbformat_minor": 5
}
