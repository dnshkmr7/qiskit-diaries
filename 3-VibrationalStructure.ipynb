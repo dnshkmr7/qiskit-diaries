{
 "cells": [
  {
   "cell_type": "markdown",
   "metadata": {},
   "source": [
    "# Vibrational structure"
   ]
  },
  {
   "cell_type": "code",
   "execution_count": 1,
   "metadata": {},
   "outputs": [
    {
     "ename": "MissingOptionalLibraryError",
     "evalue": "\"The 'g16' library is required to use 'GaussianForcesDriver __init__'.  Please check that it is installed correctly.\"",
     "output_type": "error",
     "traceback": [
      "\u001b[0;31m---------------------------------------------------------------------------\u001b[0m",
      "\u001b[0;31mMissingOptionalLibraryError\u001b[0m               Traceback (most recent call last)",
      "Cell \u001b[0;32mIn[1], line 3\u001b[0m\n\u001b[1;32m      1\u001b[0m \u001b[39mfrom\u001b[39;00m \u001b[39mqiskit_nature\u001b[39;00m\u001b[39m.\u001b[39;00m\u001b[39msecond_q\u001b[39;00m\u001b[39m.\u001b[39;00m\u001b[39mdrivers\u001b[39;00m \u001b[39mimport\u001b[39;00m GaussianForcesDriver\n\u001b[0;32m----> 3\u001b[0m GaussianForcesDriver(jcf\u001b[39m=\u001b[39;49m\u001b[39m'\u001b[39;49m\u001b[39m\\\\\u001b[39;49;00m\u001b[39mn#p B3LYP/cc-pVTZ Freq=(Anharm) Int=Ultrafine SCF=VeryTight\u001b[39;49m\u001b[39m\\\\\u001b[39;49;00m\u001b[39mn\u001b[39;49m\u001b[39m\\\\\u001b[39;49;00m\u001b[39mnCO2 geometry optimization B3LYP/cc-pVTZ\u001b[39;49m\u001b[39m\\\\\u001b[39;49;00m\u001b[39mn\u001b[39;49m\u001b[39m\\\\\u001b[39;49;00m\u001b[39mn0 1\u001b[39;49m\u001b[39m\\\\\u001b[39;49;00m\u001b[39mnC -0.848629 2.067624 0.160992\u001b[39;49m\u001b[39m\\\\\u001b[39;49;00m\u001b[39mnO 0.098816 2.655801 -0.159738\u001b[39;49m\u001b[39m\\\\\u001b[39;49;00m\u001b[39mnO -1.796073 1.479446 0.481721\u001b[39;49m\u001b[39m\\\\\u001b[39;49;00m\u001b[39mn\u001b[39;49m\u001b[39m\\\\\u001b[39;49;00m\u001b[39mn\u001b[39;49m\u001b[39m'\u001b[39;49m, logfile\u001b[39m=\u001b[39;49m\u001b[39mNone\u001b[39;49;00m, normalize\u001b[39m=\u001b[39;49m\u001b[39mTrue\u001b[39;49;00m)\n",
      "File \u001b[0;32m~/anaconda3/envs/qcvenv/lib/python3.9/site-packages/qiskit_nature/second_q/drivers/gaussiand/gaussian_forces_driver.py:81\u001b[0m, in \u001b[0;36mGaussianForcesDriver.__init__\u001b[0;34m(self, jcf, logfile, normalize)\u001b[0m\n\u001b[1;32m     78\u001b[0m \u001b[39m# If running from a jcf we need Gaussian™ 16 so check if we have a\u001b[39;00m\n\u001b[1;32m     79\u001b[0m \u001b[39m# valid install.\u001b[39;00m\n\u001b[1;32m     80\u001b[0m \u001b[39mif\u001b[39;00m \u001b[39mself\u001b[39m\u001b[39m.\u001b[39m_logfile \u001b[39mis\u001b[39;00m \u001b[39mNone\u001b[39;00m:\n\u001b[0;32m---> 81\u001b[0m     _optionals\u001b[39m.\u001b[39;49mHAS_GAUSSIAN\u001b[39m.\u001b[39;49mrequire_now(\u001b[39m\"\u001b[39;49m\u001b[39mGaussianForcesDriver __init__\u001b[39;49m\u001b[39m\"\u001b[39;49m)\n",
      "File \u001b[0;32m~/anaconda3/envs/qcvenv/lib/python3.9/site-packages/qiskit/utils/lazy_tester.py:223\u001b[0m, in \u001b[0;36mLazyDependencyManager.require_now\u001b[0;34m(self, feature)\u001b[0m\n\u001b[1;32m    221\u001b[0m \u001b[39mif\u001b[39;00m \u001b[39mself\u001b[39m:\n\u001b[1;32m    222\u001b[0m     \u001b[39mreturn\u001b[39;00m\n\u001b[0;32m--> 223\u001b[0m \u001b[39mraise\u001b[39;00m MissingOptionalLibraryError(\n\u001b[1;32m    224\u001b[0m     libname\u001b[39m=\u001b[39m\u001b[39mself\u001b[39m\u001b[39m.\u001b[39m_name, name\u001b[39m=\u001b[39mfeature, pip_install\u001b[39m=\u001b[39m\u001b[39mself\u001b[39m\u001b[39m.\u001b[39m_install, msg\u001b[39m=\u001b[39m\u001b[39mself\u001b[39m\u001b[39m.\u001b[39m_msg\n\u001b[1;32m    225\u001b[0m )\n",
      "\u001b[0;31mMissingOptionalLibraryError\u001b[0m: \"The 'g16' library is required to use 'GaussianForcesDriver __init__'.  Please check that it is installed correctly.\""
     ]
    }
   ],
   "source": [
    "from qiskit_nature.second_q.drivers import GaussianForcesDriver\n",
    "\n",
    "GaussianForcesDriver(jcf='\\\\n#p B3LYP/cc-pVTZ Freq=(Anharm) Int=Ultrafine SCF=VeryTight\\\\n\\\\nCO2 geometry optimization B3LYP/cc-pVTZ\\\\n\\\\n0 1\\\\nC -0.848629 2.067624 0.160992\\\\nO 0.098816 2.655801 -0.159738\\\\nO -1.796073 1.479446 0.481721\\\\n\\\\n', logfile=None, normalize=True)"
   ]
  },
  {
   "cell_type": "code",
   "execution_count": null,
   "metadata": {},
   "outputs": [],
   "source": [
    "from qiskit_nature.second_q.problems import HarmonicBasis\n",
    "\n",
    "basis = HarmonicBasis([2, 2, 2, 2])"
   ]
  },
  {
   "cell_type": "code",
   "execution_count": null,
   "metadata": {},
   "outputs": [],
   "source": [
    "from qiskit_nature.second_q.problems import VibrationalStructureProblem\n",
    "from qiskit_nature.second_q.mappers import QubitConverter\n",
    "from qiskit_nature.second_q.mappers import DirectMapper\n",
    "\n",
    "vibrational_problem = driver.run(basis=basis)\n",
    "vibrational_problem.hamiltonian.truncation_order = 2\n",
    "main_op, aux_ops = vibrational_problem.second_q_ops()"
   ]
  },
  {
   "cell_type": "markdown",
   "metadata": {},
   "source": [
    "The Vibrational operator for the problem now reads as"
   ]
  },
  {
   "cell_type": "code",
   "execution_count": null,
   "metadata": {},
   "outputs": [],
   "source": [
    "print(main_op)"
   ]
  },
  {
   "cell_type": "code",
   "execution_count": null,
   "metadata": {},
   "outputs": [],
   "source": [
    "qubit_converter = QubitConverter(mapper=DirectMapper())\n",
    "qubit_op = qubit_converter.convert(main_op)\n",
    "\n",
    "print(qubit_op)"
   ]
  },
  {
   "cell_type": "code",
   "execution_count": null,
   "metadata": {},
   "outputs": [],
   "source": [
    "basis = HarmonicBasis([3, 3, 3, 3])\n",
    "\n",
    "vibrational_problem = driver.run(basis=basis)\n",
    "vibrational_problem.hamiltonian.truncation_order = 2\n",
    "main_op, aux_ops = vibrational_problem.second_q_ops()\n",
    "\n",
    "qubit_converter = QubitConverter(mapper=DirectMapper())\n",
    "\n",
    "qubit_op = qubit_converter.convert(main_op)\n",
    "\n",
    "print(qubit_op)"
   ]
  },
  {
   "cell_type": "code",
   "execution_count": null,
   "metadata": {},
   "outputs": [],
   "source": [
    "from qiskit_nature.second_q.algorithms import GroundStateEigensolver, NumPyMinimumEigensolverFactory\n",
    "\n",
    "solver = GroundStateEigensolver(\n",
    "    qubit_converter,\n",
    "    NumPyMinimumEigensolverFactory(use_default_filter_criterion=True),\n",
    ")"
   ]
  },
  {
   "cell_type": "code",
   "execution_count": null,
   "metadata": {},
   "outputs": [],
   "source": [
    "# for simplicity, we will use the smaller basis again\n",
    "vibrational_problem = driver.run(basis=HarmonicBasis([2, 2, 2, 2]))\n",
    "vibrational_problem.hamiltonian.truncation_order = 2\n",
    "\n",
    "result = solver.solve(vibrational_problem)\n",
    "print(result)"
   ]
  }
 ],
 "metadata": {
  "kernelspec": {
   "display_name": "qcvenv",
   "language": "python",
   "name": "python3"
  },
  "language_info": {
   "codemirror_mode": {
    "name": "ipython",
    "version": 3
   },
   "file_extension": ".py",
   "mimetype": "text/x-python",
   "name": "python",
   "nbconvert_exporter": "python",
   "pygments_lexer": "ipython3",
   "version": "3.9.15"
  },
  "vscode": {
   "interpreter": {
    "hash": "e61fd055b6c89f408bdb22b74abb2a8303fbaccbe1fa5702588182a48b8f388a"
   }
  }
 },
 "nbformat": 4,
 "nbformat_minor": 4
}
